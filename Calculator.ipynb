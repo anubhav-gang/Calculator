{
 "cells": [
  {
   "cell_type": "code",
   "execution_count": 1,
   "metadata": {},
   "outputs": [],
   "source": [
    "from tkinter import *\n",
    "from tkinter.messagebox import *"
   ]
  },
  {
   "cell_type": "code",
   "execution_count": 2,
   "metadata": {},
   "outputs": [],
   "source": [
    "font = ('Verdana', 22,'bold')"
   ]
  },
  {
   "cell_type": "code",
   "execution_count": 3,
   "metadata": {},
   "outputs": [],
   "source": [
    "#Button function\n",
    "def all_clear():\n",
    "    textfield.delete(0,END)\n",
    "\n",
    "\n",
    "def click_btn_function(event):\n",
    "    print(\"Button Clicked\")\n",
    "    b = event.widget\n",
    "    text = b['text']\n",
    "    print(text)\n",
    "    \n",
    "    if text == '=':\n",
    "        try:\n",
    "            ex = textfield.get()\n",
    "            answer = eval(ex)\n",
    "            textfield.delete(0,END)\n",
    "            textfield.insert(0,answer)\n",
    "        except Exception as e:\n",
    "            print(\"Error..\", e)\n",
    "            showerror(\"Error..\", e)\n",
    "        return\n",
    "    \n",
    "    textfield.insert(END,text)"
   ]
  },
  {
   "cell_type": "code",
   "execution_count": 4,
   "metadata": {},
   "outputs": [
    {
     "name": "stdout",
     "output_type": "stream",
     "text": [
      "Button Clicked\n",
      "5\n",
      "Button Clicked\n",
      "4\n",
      "Button Clicked\n",
      "+\n",
      "Button Clicked\n",
      "-\n",
      "Button Clicked\n",
      "8\n",
      "Button Clicked\n",
      "=\n",
      "Button Clicked\n",
      "*\n",
      "Button Clicked\n",
      ".\n",
      "Button Clicked\n",
      "0\n",
      "Button Clicked\n",
      "8\n",
      "Button Clicked\n",
      "=\n",
      "Button Clicked\n",
      "+\n"
     ]
    }
   ],
   "source": [
    "#Creating the Calc Window\n",
    "window = Tk()\n",
    "window.title(\"Your Own Calcy\")\n",
    "window.geometry('480x400')\n",
    "\n",
    "#Text Field Label\n",
    "textfield = Entry(window, font = font, justify = CENTER )\n",
    "textfield.pack(side = TOP, pady = 10, fill = X, padx = 10)\n",
    "\n",
    "\n",
    "#Adding Buttons\n",
    "buttonFrame = Frame(window)\n",
    "buttonFrame.pack(side = TOP)\n",
    "\n",
    "#Using Matrix to Create Buttons\n",
    "temp = 1\n",
    "for i in range(0,3):\n",
    "    for j in range(0,3):\n",
    "        btn = Button(buttonFrame, text = str(temp), font = font, width = 5, relief = 'ridge', activebackground = 'blue', activeforeground = 'white')\n",
    "        btn.grid(row = i, column = j, padx = 3, pady = 3)\n",
    "        temp = temp+1\n",
    "        btn.bind('<Button-1>', click_btn_function)\n",
    "        \n",
    "\n",
    "Zerobtn = Button(buttonFrame, text = '0', font = font, width = 5, relief = 'ridge',activebackground = 'blue', activeforeground = 'white')\n",
    "Zerobtn.grid(row = 3, column = 0, padx = 3, pady = 3)\n",
    "\n",
    "dotbtn = Button(buttonFrame, text = '.', font = font, width = 5, relief = 'ridge',activebackground = 'blue', activeforeground = 'white')\n",
    "dotbtn.grid(row = 3, column = 1, padx = 3, pady = 3)\n",
    "\n",
    "equaltobtn = Button(buttonFrame, text = '=', font = font, width = 5, relief = 'ridge',activebackground = 'blue', activeforeground = 'white')\n",
    "equaltobtn.grid(row = 3, column = 2, padx = 3, pady = 3)\n",
    "\n",
    "plusbtn = Button(buttonFrame, text = '+', font = font, width = 5, relief = 'ridge',activebackground = 'blue', activeforeground = 'white')\n",
    "plusbtn.grid(row = 0, column = 3, padx = 3, pady = 3)\n",
    "\n",
    "minusbtn = Button(buttonFrame, text = '-', font = font, width = 5, relief = 'ridge',activebackground = 'blue', activeforeground = 'white')\n",
    "minusbtn.grid(row = 1, column = 3, padx = 3, pady = 3)\n",
    "\n",
    "multibtn = Button(buttonFrame, text = '*', font = font, width = 5, relief = 'ridge',activebackground = 'blue', activeforeground = 'white')\n",
    "multibtn.grid(row = 2, column = 3, padx = 3, pady = 3)\n",
    "\n",
    "divbtn = Button(buttonFrame, text = '/', font = font, width = 5, relief = 'ridge',activebackground = 'blue', activeforeground = 'white')\n",
    "divbtn.grid(row = 3, column = 3, padx = 3, pady = 3)\n",
    "\n",
    "clearbtn = Button(buttonFrame, text = '<---', font = font, width = 11, relief = 'ridge',activebackground = 'blue',\n",
    "                activeforeground = 'white')\n",
    "clearbtn.grid(row = 4, column = 0, padx = 3, pady = 3, columnspan = 2)\n",
    "\n",
    "allclearbtn = Button(buttonFrame, text = 'AC', font = font, width = 11, relief = 'ridge',activebackground = 'blue',\n",
    "                activeforeground = 'white', command = all_clear)\n",
    "allclearbtn.grid(row = 4, column = 2, padx = 3, pady = 3, columnspan = 2)\n",
    "\n",
    "\n",
    "#Binding all Buttons\n",
    "plusbtn.bind('<Button-1>', click_btn_function)\n",
    "minusbtn.bind('<Button-1>', click_btn_function)\n",
    "multibtn.bind('<Button-1>', click_btn_function)\n",
    "divbtn.bind('<Button-1>', click_btn_function)\n",
    "Zerobtn.bind('<Button-1>', click_btn_function)\n",
    "equaltobtn.bind('<Button-1>', click_btn_function)\n",
    "dotbtn.bind('<Button-1>', click_btn_function)\n",
    "\n",
    "\n",
    "window.mainloop()"
   ]
  },
  {
   "cell_type": "code",
   "execution_count": null,
   "metadata": {},
   "outputs": [],
   "source": []
  },
  {
   "cell_type": "code",
   "execution_count": null,
   "metadata": {},
   "outputs": [],
   "source": []
  }
 ],
 "metadata": {
  "kernelspec": {
   "display_name": "Python 3",
   "language": "python",
   "name": "python3"
  },
  "language_info": {
   "codemirror_mode": {
    "name": "ipython",
    "version": 3
   },
   "file_extension": ".py",
   "mimetype": "text/x-python",
   "name": "python",
   "nbconvert_exporter": "python",
   "pygments_lexer": "ipython3",
   "version": "3.8.5"
  }
 },
 "nbformat": 4,
 "nbformat_minor": 4
}
